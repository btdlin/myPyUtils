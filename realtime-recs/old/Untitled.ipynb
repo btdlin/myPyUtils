{
 "cells": [
  {
   "cell_type": "code",
   "execution_count": 20,
   "metadata": {
    "collapsed": false
   },
   "outputs": [],
   "source": [
    "from bt_candidates.client import Client\n",
    "from bt_candidates.wiring import default_filter_factory as ff\n",
    "from bt_candidates.filters import MatchType\n",
    "from bt_candidates.sorting import SortStrategy\n",
    "\n",
    "client = Client('candidates.magic.boomtrain.com')\n",
    "schema = client.get_schema('atlanta-black-star')\n",
    "\n",
    "filt = ff.or_filter(\n",
    "    ff.overlap_filter('title', ['Yohannes',  'IV'], match_type=MatchType.EXACT, min=2, max=2),\n",
    "    ff.overlap_filter('title', ['Search', 'chicago'], match_type=MatchType.EXACT, min=2, max=2),\n",
    "    ff.overlap_filter('title', ['african', 'history', 'month'], match_type=MatchType.EXACT, min=3, max=3)\n",
    ")\n",
    "\n",
    "candidates = client.get_candidates('atlanta-black-star', filt, limit=25)"
   ]
  },
  {
   "cell_type": "code",
   "execution_count": 22,
   "metadata": {
    "collapsed": false
   },
   "outputs": [
    {
     "data": {
      "text/plain": [
       "[Candidate(resource_id='object|9d9a09a26c5f47b9ab59a56e400a2159', event_counts=EventHistogram(granularity=\"PT1H\", buckets=0), sort_weight=2),\n",
       " Candidate(resource_id='object|79cfc6a59ff65d4a99bce9ce42fd0a35', event_counts=EventHistogram(granularity=\"PT1H\", buckets=0), sort_weight=1),\n",
       " Candidate(resource_id='object|ab3936437d85f6f36f08df89d8d37f14', event_counts=EventHistogram(granularity=\"PT1H\", buckets=0), sort_weight=1),\n",
       " Candidate(resource_id='object|fa3846054995b23b1555d3b3dc6f442a', event_counts=None, sort_weight=1),\n",
       " Candidate(resource_id='object|037ba738bac773a75f321cbdef585481', event_counts=None, sort_weight=1),\n",
       " Candidate(resource_id='object|88771382a04f57dd3a431d2daea93835', event_counts=EventHistogram(granularity=\"PT1H\", buckets=0), sort_weight=1),\n",
       " Candidate(resource_id='object|48df31b0474414c839b75872128c76f4', event_counts=EventHistogram(granularity=\"PT1H\", buckets=0), sort_weight=1),\n",
       " Candidate(resource_id='object|2a4d610e822e64b637b2eaf3b58c3feb', event_counts=EventHistogram(granularity=\"PT1H\", buckets=0), sort_weight=1),\n",
       " Candidate(resource_id='article|338059', event_counts=EventHistogram(granularity=\"PT1H\", buckets=1), sort_weight=0),\n",
       " Candidate(resource_id='object|f2e4d54ae2fca58b724140fd4e40ee49', event_counts=EventHistogram(granularity=\"PT1H\", buckets=0), sort_weight=0),\n",
       " Candidate(resource_id='article|278898', event_counts=EventHistogram(granularity=\"PT1H\", buckets=1), sort_weight=0),\n",
       " Candidate(resource_id='object|aed9313068027b09a5dfd99e7840aec9', event_counts=EventHistogram(granularity=\"PT1H\", buckets=0), sort_weight=0)]"
      ]
     },
     "execution_count": 22,
     "metadata": {},
     "output_type": "execute_result"
    }
   ],
   "source": [
    "import itertools as it\n",
    "\n",
    "def split_candidates(candidates, needed=10):\n",
    "    to_score = []\n",
    "    for _, grp in it.groupby(candidates, lambda c: c.sort_weight):\n",
    "        grp = list(grp)\n",
    "        if len(grp) > needed:\n",
    "            to_score.extend(grp)\n",
    "            return to_score\n",
    "        else:\n",
    "            to_score.extend(grp)\n",
    "            \n",
    "        needed -= len(grp)\n",
    "    raise ValueError('too few candidates!', needed)\n",
    "        \n",
    "split_candidates(candidates, 10)"
   ]
  },
  {
   "cell_type": "code",
   "execution_count": 3,
   "metadata": {
    "collapsed": false
   },
   "outputs": [
    {
     "name": "stdout",
     "output_type": "stream",
     "text": [
      "\n",
      "to_return\n",
      " [Candidate(resource_id='object|9d9a09a26c5f47b9ab59a56e400a2159', event_counts=EventHistogram(granularity=\"PT1H\", buckets=0), sort_weight=2), Candidate(resource_id='object|79cfc6a59ff65d4a99bce9ce42fd0a35', event_counts=EventHistogram(granularity=\"PT1H\", buckets=0), sort_weight=1), Candidate(resource_id='object|ab3936437d85f6f36f08df89d8d37f14', event_counts=EventHistogram(granularity=\"PT1H\", buckets=0), sort_weight=1), Candidate(resource_id='object|fa3846054995b23b1555d3b3dc6f442a', event_counts=None, sort_weight=1), Candidate(resource_id='object|037ba738bac773a75f321cbdef585481', event_counts=None, sort_weight=1), Candidate(resource_id='object|88771382a04f57dd3a431d2daea93835', event_counts=EventHistogram(granularity=\"PT1H\", buckets=0), sort_weight=1), Candidate(resource_id='object|48df31b0474414c839b75872128c76f4', event_counts=EventHistogram(granularity=\"PT1H\", buckets=0), sort_weight=1), Candidate(resource_id='object|2a4d610e822e64b637b2eaf3b58c3feb', event_counts=EventHistogram(granularity=\"PT1H\", buckets=0), sort_weight=1)]\n",
      "\n",
      "to_score\n",
      " []\n"
     ]
    }
   ],
   "source": [
    "to_return, to_score = split_candidates(candidates, 8)\n",
    "print('\\nto_return\\n', to_return)\n",
    "print('\\nto_score\\n', to_score)"
   ]
  }
 ],
 "metadata": {
  "kernelspec": {
   "display_name": "Python 3",
   "language": "python",
   "name": "python3"
  },
  "language_info": {
   "codemirror_mode": {
    "name": "ipython",
    "version": 3
   },
   "file_extension": ".py",
   "mimetype": "text/x-python",
   "name": "python",
   "nbconvert_exporter": "python",
   "pygments_lexer": "ipython3",
   "version": "3.4.3"
  }
 },
 "nbformat": 4,
 "nbformat_minor": 2
}
